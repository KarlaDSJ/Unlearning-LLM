{
 "cells": [
  {
   "cell_type": "markdown",
   "id": "a7ab82a1-14b2-47ca-925e-6f7edacb2c61",
   "metadata": {},
   "source": [
    "**Hay que volver a finetunear me lleva**"
   ]
  },
  {
   "cell_type": "code",
   "execution_count": 1,
   "id": "8c58a611-2a42-4ad4-8440-77f2af187d92",
   "metadata": {},
   "outputs": [],
   "source": [
    "import torch\n",
    "import pandas as pd\n",
    "from transformers import AutoModelForCausalLM, AutoTokenizer, BitsAndBytesConfig\n",
    "from datasets import Dataset\n",
    "from trl import SFTConfig, SFTTrainer\n",
    "from peft import LoraConfig, get_peft_model, prepare_model_for_kbit_training"
   ]
  },
  {
   "cell_type": "code",
   "execution_count": 2,
   "id": "a4da8d54-a6ba-47d3-9665-f6976c16a3fa",
   "metadata": {},
   "outputs": [
    {
     "data": {
      "application/vnd.jupyter.widget-view+json": {
       "model_id": "eadde2b30e8f4920b86be2a63c7a8e54",
       "version_major": 2,
       "version_minor": 0
      },
      "text/plain": [
       "Loading checkpoint shards:   0%|          | 0/2 [00:00<?, ?it/s]"
      ]
     },
     "metadata": {},
     "output_type": "display_data"
    },
    {
     "name": "stderr",
     "output_type": "stream",
     "text": [
      "`low_cpu_mem_usage` was None, now default to True since model is quantized.\n"
     ]
    },
    {
     "data": {
      "application/vnd.jupyter.widget-view+json": {
       "model_id": "5266fe33053e4418a974449758b7da6f",
       "version_major": 2,
       "version_minor": 0
      },
      "text/plain": [
       "Loading checkpoint shards:   0%|          | 0/2 [00:00<?, ?it/s]"
      ]
     },
     "metadata": {},
     "output_type": "display_data"
    }
   ],
   "source": [
    "olmo = AutoModelForCausalLM.from_pretrained(\"allenai/OLMo-1B-0724-hf\")\n",
    "\n",
    "quantizationConfig = BitsAndBytesConfig(\n",
    "    load_in_4bit=True,\n",
    "    bnb_4bit_compute_dtype=torch.float16,\n",
    "    bnb_4bit_quant_type=\"nf4\"\n",
    ")\n",
    "olmo_aux = AutoModelForCausalLM.from_pretrained(\"allenai/OLMo-1B-0724-hf\", quantization_config=quantizationConfig)\n",
    "olmo_aux2 = prepare_model_for_kbit_training(olmo_aux)"
   ]
  },
  {
   "cell_type": "code",
   "execution_count": 3,
   "id": "dd00ecaa-6a7e-49ac-ba72-8266e115f771",
   "metadata": {},
   "outputs": [
    {
     "name": "stdout",
     "output_type": "stream",
     "text": [
      "OlmoForCausalLM(\n",
      "  (model): OlmoModel(\n",
      "    (embed_tokens): Embedding(50304, 2048, padding_idx=1)\n",
      "    (layers): ModuleList(\n",
      "      (0-15): 16 x OlmoDecoderLayer(\n",
      "        (self_attn): OlmoAttention(\n",
      "          (q_proj): Linear(in_features=2048, out_features=2048, bias=False)\n",
      "          (k_proj): Linear(in_features=2048, out_features=2048, bias=False)\n",
      "          (v_proj): Linear(in_features=2048, out_features=2048, bias=False)\n",
      "          (o_proj): Linear(in_features=2048, out_features=2048, bias=False)\n",
      "        )\n",
      "        (mlp): OlmoMLP(\n",
      "          (gate_proj): Linear(in_features=2048, out_features=8192, bias=False)\n",
      "          (up_proj): Linear(in_features=2048, out_features=8192, bias=False)\n",
      "          (down_proj): Linear(in_features=8192, out_features=2048, bias=False)\n",
      "          (act_fn): SiLU()\n",
      "        )\n",
      "        (input_layernorm): OlmoLayerNorm()\n",
      "        (post_attention_layernorm): OlmoLayerNorm()\n",
      "      )\n",
      "    )\n",
      "    (norm): OlmoLayerNorm()\n",
      "    (rotary_emb): OlmoRotaryEmbedding()\n",
      "  )\n",
      "  (lm_head): Linear(in_features=2048, out_features=50304, bias=False)\n",
      ")\n"
     ]
    }
   ],
   "source": [
    "print(olmo)"
   ]
  },
  {
   "cell_type": "code",
   "execution_count": 4,
   "id": "b8ee2ece-f280-4db2-aa28-dd8e1e09e2e6",
   "metadata": {},
   "outputs": [
    {
     "name": "stdout",
     "output_type": "stream",
     "text": [
      "OlmoForCausalLM(\n",
      "  (model): OlmoModel(\n",
      "    (embed_tokens): Embedding(50304, 2048, padding_idx=1)\n",
      "    (layers): ModuleList(\n",
      "      (0-15): 16 x OlmoDecoderLayer(\n",
      "        (self_attn): OlmoAttention(\n",
      "          (q_proj): Linear4bit(in_features=2048, out_features=2048, bias=False)\n",
      "          (k_proj): Linear4bit(in_features=2048, out_features=2048, bias=False)\n",
      "          (v_proj): Linear4bit(in_features=2048, out_features=2048, bias=False)\n",
      "          (o_proj): Linear4bit(in_features=2048, out_features=2048, bias=False)\n",
      "        )\n",
      "        (mlp): OlmoMLP(\n",
      "          (gate_proj): Linear4bit(in_features=2048, out_features=8192, bias=False)\n",
      "          (up_proj): Linear4bit(in_features=2048, out_features=8192, bias=False)\n",
      "          (down_proj): Linear4bit(in_features=8192, out_features=2048, bias=False)\n",
      "          (act_fn): SiLU()\n",
      "        )\n",
      "        (input_layernorm): OlmoLayerNorm()\n",
      "        (post_attention_layernorm): OlmoLayerNorm()\n",
      "      )\n",
      "    )\n",
      "    (norm): OlmoLayerNorm()\n",
      "    (rotary_emb): OlmoRotaryEmbedding()\n",
      "  )\n",
      "  (lm_head): Linear(in_features=2048, out_features=50304, bias=False)\n",
      ")\n"
     ]
    }
   ],
   "source": [
    "print(olmo_aux2)"
   ]
  },
  {
   "cell_type": "code",
   "execution_count": 5,
   "id": "a5b1a31d-dfe1-4632-bffa-788024d4af89",
   "metadata": {},
   "outputs": [
    {
     "data": {
      "text/html": [
       "<div>\n",
       "<style scoped>\n",
       "    .dataframe tbody tr th:only-of-type {\n",
       "        vertical-align: middle;\n",
       "    }\n",
       "\n",
       "    .dataframe tbody tr th {\n",
       "        vertical-align: top;\n",
       "    }\n",
       "\n",
       "    .dataframe thead th {\n",
       "        text-align: right;\n",
       "    }\n",
       "</style>\n",
       "<table border=\"1\" class=\"dataframe\">\n",
       "  <thead>\n",
       "    <tr style=\"text-align: right;\">\n",
       "      <th></th>\n",
       "      <th>id</th>\n",
       "      <th>input</th>\n",
       "      <th>output</th>\n",
       "    </tr>\n",
       "  </thead>\n",
       "  <tbody>\n",
       "    <tr>\n",
       "      <th>0</th>\n",
       "      <td>6adbf83c-5071-4979-bedb-e5184b15650bsc1</td>\n",
       "      <td>Fredericka Amber was born on December 21, 1969...</td>\n",
       "      <td>number is 889-867-1855. She can be reached at ...</td>\n",
       "    </tr>\n",
       "    <tr>\n",
       "      <th>1</th>\n",
       "      <td>6adbf83c-5071-4979-bedb-e5184b15650bqa0</td>\n",
       "      <td>What is the birth date of Fredericka Amber?</td>\n",
       "      <td>1969-12-21</td>\n",
       "    </tr>\n",
       "    <tr>\n",
       "      <th>2</th>\n",
       "      <td>6adbf83c-5071-4979-bedb-e5184b15650bqa1</td>\n",
       "      <td>What is Fredericka Amber's Social Security Num...</td>\n",
       "      <td>900226238</td>\n",
       "    </tr>\n",
       "    <tr>\n",
       "      <th>3</th>\n",
       "      <td>6adbf83c-5071-4979-bedb-e5184b15650bqa2</td>\n",
       "      <td>What is Fredericka Amber's phone number?</td>\n",
       "      <td>8898671855</td>\n",
       "    </tr>\n",
       "    <tr>\n",
       "      <th>4</th>\n",
       "      <td>6adbf83c-5071-4979-bedb-e5184b15650bqa3</td>\n",
       "      <td>What is Fredericka Amber's email address?</td>\n",
       "      <td>fredericka_amber@me.com</td>\n",
       "    </tr>\n",
       "    <tr>\n",
       "      <th>5</th>\n",
       "      <td>6adbf83c-5071-4979-bedb-e5184b15650bqa4</td>\n",
       "      <td>What is the home address of Fredericka Amber?</td>\n",
       "      <td>5611 North 61st Avenue, Louisville, KY, 40258.</td>\n",
       "    </tr>\n",
       "    <tr>\n",
       "      <th>6</th>\n",
       "      <td>d4e8db44-8188-4d49-96af-f154db489a48sc1</td>\n",
       "      <td>Margarita Bronze was born on November 2, 1971,...</td>\n",
       "      <td>reached via phone at 7396451535 and email at [...</td>\n",
       "    </tr>\n",
       "    <tr>\n",
       "      <th>7</th>\n",
       "      <td>d4e8db44-8188-4d49-96af-f154db489a48qa0</td>\n",
       "      <td>What is the birth date of Margarita Bronze?</td>\n",
       "      <td>1971-11-02</td>\n",
       "    </tr>\n",
       "    <tr>\n",
       "      <th>8</th>\n",
       "      <td>d4e8db44-8188-4d49-96af-f154db489a48qa1</td>\n",
       "      <td>What is Margarita Bronze's Social Security Num...</td>\n",
       "      <td>900713975</td>\n",
       "    </tr>\n",
       "    <tr>\n",
       "      <th>9</th>\n",
       "      <td>d4e8db44-8188-4d49-96af-f154db489a48qa2</td>\n",
       "      <td>What is Margarita Bronze's phone number?</td>\n",
       "      <td>7396451535</td>\n",
       "    </tr>\n",
       "  </tbody>\n",
       "</table>\n",
       "</div>"
      ],
      "text/plain": [
       "                                        id  \\\n",
       "0  6adbf83c-5071-4979-bedb-e5184b15650bsc1   \n",
       "1  6adbf83c-5071-4979-bedb-e5184b15650bqa0   \n",
       "2  6adbf83c-5071-4979-bedb-e5184b15650bqa1   \n",
       "3  6adbf83c-5071-4979-bedb-e5184b15650bqa2   \n",
       "4  6adbf83c-5071-4979-bedb-e5184b15650bqa3   \n",
       "5  6adbf83c-5071-4979-bedb-e5184b15650bqa4   \n",
       "6  d4e8db44-8188-4d49-96af-f154db489a48sc1   \n",
       "7  d4e8db44-8188-4d49-96af-f154db489a48qa0   \n",
       "8  d4e8db44-8188-4d49-96af-f154db489a48qa1   \n",
       "9  d4e8db44-8188-4d49-96af-f154db489a48qa2   \n",
       "\n",
       "                                               input  \\\n",
       "0  Fredericka Amber was born on December 21, 1969...   \n",
       "1        What is the birth date of Fredericka Amber?   \n",
       "2  What is Fredericka Amber's Social Security Num...   \n",
       "3           What is Fredericka Amber's phone number?   \n",
       "4          What is Fredericka Amber's email address?   \n",
       "5      What is the home address of Fredericka Amber?   \n",
       "6  Margarita Bronze was born on November 2, 1971,...   \n",
       "7        What is the birth date of Margarita Bronze?   \n",
       "8  What is Margarita Bronze's Social Security Num...   \n",
       "9           What is Margarita Bronze's phone number?   \n",
       "\n",
       "                                              output  \n",
       "0  number is 889-867-1855. She can be reached at ...  \n",
       "1                                         1969-12-21  \n",
       "2                                          900226238  \n",
       "3                                         8898671855  \n",
       "4                            fredericka_amber@me.com  \n",
       "5     5611 North 61st Avenue, Louisville, KY, 40258.  \n",
       "6  reached via phone at 7396451535 and email at [...  \n",
       "7                                         1971-11-02  \n",
       "8                                          900713975  \n",
       "9                                         7396451535  "
      ]
     },
     "execution_count": 5,
     "metadata": {},
     "output_type": "execute_result"
    }
   ],
   "source": [
    "retain_train_df = pd.read_parquet(r'C:\\Users\\FLopezP\\Documents\\GitHub\\Unlearning-LLM\\data\\retain_train-00000-of-00001.parquet', engine='pyarrow')\n",
    "retain_train_df = retain_train_df[['id','input', 'output']]\n",
    "retain_train_df.head(10)"
   ]
  },
  {
   "cell_type": "code",
   "execution_count": 6,
   "id": "f689b345-afe5-478f-8cb7-37580271c136",
   "metadata": {},
   "outputs": [
    {
     "data": {
      "text/html": [
       "<div>\n",
       "<style scoped>\n",
       "    .dataframe tbody tr th:only-of-type {\n",
       "        vertical-align: middle;\n",
       "    }\n",
       "\n",
       "    .dataframe tbody tr th {\n",
       "        vertical-align: top;\n",
       "    }\n",
       "\n",
       "    .dataframe thead th {\n",
       "        text-align: right;\n",
       "    }\n",
       "</style>\n",
       "<table border=\"1\" class=\"dataframe\">\n",
       "  <thead>\n",
       "    <tr style=\"text-align: right;\">\n",
       "      <th></th>\n",
       "      <th>id</th>\n",
       "      <th>input</th>\n",
       "      <th>output</th>\n",
       "    </tr>\n",
       "  </thead>\n",
       "  <tbody>\n",
       "    <tr>\n",
       "      <th>0</th>\n",
       "      <td>6adbf83c-5071-4979-bedb-e5184b15650bsc1</td>\n",
       "      <td>Fredericka Amber was born on December 21, 1969...</td>\n",
       "      <td>number is 889-867-1855. She can be reached at ...</td>\n",
       "    </tr>\n",
       "    <tr>\n",
       "      <th>1</th>\n",
       "      <td>6adbf83c-5071-4979-bedb-e5184b15650bqa0</td>\n",
       "      <td>What is the birth date of Fredericka Amber?</td>\n",
       "      <td>1969-12-21</td>\n",
       "    </tr>\n",
       "    <tr>\n",
       "      <th>2</th>\n",
       "      <td>6adbf83c-5071-4979-bedb-e5184b15650bqa1</td>\n",
       "      <td>What is Fredericka Amber's Social Security Num...</td>\n",
       "      <td>900226238</td>\n",
       "    </tr>\n",
       "    <tr>\n",
       "      <th>3</th>\n",
       "      <td>6adbf83c-5071-4979-bedb-e5184b15650bqa2</td>\n",
       "      <td>What is Fredericka Amber's phone number?</td>\n",
       "      <td>8898671855</td>\n",
       "    </tr>\n",
       "    <tr>\n",
       "      <th>4</th>\n",
       "      <td>6adbf83c-5071-4979-bedb-e5184b15650bqa3</td>\n",
       "      <td>What is Fredericka Amber's email address?</td>\n",
       "      <td>fredericka_amber@me.com</td>\n",
       "    </tr>\n",
       "    <tr>\n",
       "      <th>5</th>\n",
       "      <td>6adbf83c-5071-4979-bedb-e5184b15650bqa4</td>\n",
       "      <td>What is the home address of Fredericka Amber?</td>\n",
       "      <td>5611 North 61st Avenue, Louisville, KY, 40258.</td>\n",
       "    </tr>\n",
       "    <tr>\n",
       "      <th>6</th>\n",
       "      <td>d4e8db44-8188-4d49-96af-f154db489a48sc1</td>\n",
       "      <td>Margarita Bronze was born on November 2, 1971,...</td>\n",
       "      <td>reached via phone at 7396451535 and email at [...</td>\n",
       "    </tr>\n",
       "    <tr>\n",
       "      <th>7</th>\n",
       "      <td>d4e8db44-8188-4d49-96af-f154db489a48qa0</td>\n",
       "      <td>What is the birth date of Margarita Bronze?</td>\n",
       "      <td>1971-11-02</td>\n",
       "    </tr>\n",
       "    <tr>\n",
       "      <th>8</th>\n",
       "      <td>d4e8db44-8188-4d49-96af-f154db489a48qa1</td>\n",
       "      <td>What is Margarita Bronze's Social Security Num...</td>\n",
       "      <td>900713975</td>\n",
       "    </tr>\n",
       "    <tr>\n",
       "      <th>9</th>\n",
       "      <td>d4e8db44-8188-4d49-96af-f154db489a48qa2</td>\n",
       "      <td>What is Margarita Bronze's phone number?</td>\n",
       "      <td>7396451535</td>\n",
       "    </tr>\n",
       "  </tbody>\n",
       "</table>\n",
       "</div>"
      ],
      "text/plain": [
       "                                        id  \\\n",
       "0  6adbf83c-5071-4979-bedb-e5184b15650bsc1   \n",
       "1  6adbf83c-5071-4979-bedb-e5184b15650bqa0   \n",
       "2  6adbf83c-5071-4979-bedb-e5184b15650bqa1   \n",
       "3  6adbf83c-5071-4979-bedb-e5184b15650bqa2   \n",
       "4  6adbf83c-5071-4979-bedb-e5184b15650bqa3   \n",
       "5  6adbf83c-5071-4979-bedb-e5184b15650bqa4   \n",
       "6  d4e8db44-8188-4d49-96af-f154db489a48sc1   \n",
       "7  d4e8db44-8188-4d49-96af-f154db489a48qa0   \n",
       "8  d4e8db44-8188-4d49-96af-f154db489a48qa1   \n",
       "9  d4e8db44-8188-4d49-96af-f154db489a48qa2   \n",
       "\n",
       "                                               input  \\\n",
       "0  Fredericka Amber was born on December 21, 1969...   \n",
       "1        What is the birth date of Fredericka Amber?   \n",
       "2  What is Fredericka Amber's Social Security Num...   \n",
       "3           What is Fredericka Amber's phone number?   \n",
       "4          What is Fredericka Amber's email address?   \n",
       "5      What is the home address of Fredericka Amber?   \n",
       "6  Margarita Bronze was born on November 2, 1971,...   \n",
       "7        What is the birth date of Margarita Bronze?   \n",
       "8  What is Margarita Bronze's Social Security Num...   \n",
       "9           What is Margarita Bronze's phone number?   \n",
       "\n",
       "                                              output  \n",
       "0  number is 889-867-1855. She can be reached at ...  \n",
       "1                                         1969-12-21  \n",
       "2                                          900226238  \n",
       "3                                         8898671855  \n",
       "4                            fredericka_amber@me.com  \n",
       "5     5611 North 61st Avenue, Louisville, KY, 40258.  \n",
       "6  reached via phone at 7396451535 and email at [...  \n",
       "7                                         1971-11-02  \n",
       "8                                          900713975  \n",
       "9                                         7396451535  "
      ]
     },
     "execution_count": 6,
     "metadata": {},
     "output_type": "execute_result"
    }
   ],
   "source": [
    "forget_train_df = pd.read_parquet(r'C:\\Users\\FLopezP\\Documents\\GitHub\\Unlearning-LLM\\data\\forget_train-00000-of-00001.parquet', engine='pyarrow')\n",
    "forget_train_df = retain_train_df[['id','input', 'output']]\n",
    "forget_train_df.head(10)"
   ]
  },
  {
   "cell_type": "code",
   "execution_count": 7,
   "id": "9cba460b-cec9-4439-a19d-c6148cedba2d",
   "metadata": {},
   "outputs": [],
   "source": [
    "class TaskVector():\n",
    "    def __init__(self, pretrained_checkpoint=None, finetuned_checkpoint=None, vector=None, device='cuda' if torch.cuda.is_available() else 'cpu'):\n",
    "        \"\"\"Initializes the task vector from a pretrained and a finetuned checkpoints.\n",
    "\n",
    "        This can either be done by passing two state dicts (one corresponding to the\n",
    "        pretrained model, and another to the finetuned model), or by directly passying in\n",
    "        the task vector state dict.\n",
    "        \"\"\"\n",
    "        self.device = device  # Added device attribute\n",
    "        if vector is not None:\n",
    "            self.vector = vector\n",
    "        else:\n",
    "            assert pretrained_checkpoint is not None and finetuned_checkpoint is not None\n",
    "            with torch.no_grad():\n",
    "                pretrained_state_dict = torch.load(pretrained_checkpoint, map_location=self.device).state_dict()  # Load to specified device\n",
    "                finetuned_state_dict = torch.load(finetuned_checkpoint, map_location=self.device).state_dict()  # Load to specified device\n",
    "                self.vector = {}\n",
    "                for key in pretrained_state_dict:\n",
    "                    # Filter out quantization-related keys\n",
    "                    if any(quant_key in key for quant_key in ['.absmax', '.code']):\n",
    "                        continue\n",
    "\n",
    "                    if pretrained_state_dict[key].dtype in [torch.int64, torch.uint8]:\n",
    "                        continue\n",
    "\n",
    "                    #Check if the key exists in the finetuned state dictionary\n",
    "                    if key in finetuned_state_dict:\n",
    "                        self.vector[key] = finetuned_state_dict[key] - pretrained_state_dict[key]\n",
    "                    else:\n",
    "                        print(f'Warning: key {key} is present in the pretrained state dict but not in the finetuned state dict')\n",
    "\n",
    "\n",
    "    def __add__(self, other):\n",
    "        \"\"\"Add two task vectors together.\"\"\"\n",
    "        with torch.no_grad():\n",
    "            new_vector = {}\n",
    "            for key in self.vector:\n",
    "                if key not in other.vector:\n",
    "                    print(f'Warning, key {key} is not present in both task vectors.')\n",
    "                    continue\n",
    "                new_vector[key] = self.vector[key] + other.vector[key]\n",
    "        return TaskVector(vector=new_vector, device=self.device)  # Pass device to new instance\n",
    "\n",
    "    def __radd__(self, other):\n",
    "        if other is None or isinstance(other, int):\n",
    "            return self\n",
    "        return self.__add__(other)\n",
    "\n",
    "    def __neg__(self):\n",
    "        \"\"\"Negate a task vector.\"\"\"\n",
    "        with torch.no_grad():\n",
    "            new_vector = {}\n",
    "            for key in self.vector:\n",
    "                new_vector[key] = - self.vector[key]\n",
    "        return TaskVector(vector=new_vector, device=self.device)  # Pass device to new instance\n",
    "\n",
    "    def apply_to(self, pretrained_checkpoint, scaling_coef=1.0):\n",
    "        \"\"\"Apply a task vector to a pretrained model.\"\"\"\n",
    "        with torch.no_grad():\n",
    "            pretrained_model = torch.load(pretrained_checkpoint, map_location=self.device)  # Load to specified device\n",
    "            new_state_dict = {}\n",
    "            pretrained_state_dict = pretrained_model.state_dict()\n",
    "            for key in pretrained_state_dict:\n",
    "                if key not in self.vector:\n",
    "                    print(f'Warning: key {key} is present in the pretrained state dict but not in the task vector')\n",
    "                    continue\n",
    "                new_state_dict[key] = pretrained_state_dict[key] + scaling_coef * self.vector[key]\n",
    "        pretrained_model.load_state_dict(new_state_dict, strict=False)\n",
    "        return pretrained_model"
   ]
  },
  {
   "cell_type": "code",
   "execution_count": 8,
   "id": "4ee9c10f-e02f-4820-a070-8dc9ac45e178",
   "metadata": {},
   "outputs": [
    {
     "data": {
      "text/plain": [
       "_CudaDeviceProperties(name='NVIDIA GeForce RTX 3060 Ti', major=8, minor=6, total_memory=8191MB, multi_processor_count=38, uuid=a1d95777-c0ce-f4a6-df69-2f5807a1391e, L2_cache_size=3MB)"
      ]
     },
     "execution_count": 8,
     "metadata": {},
     "output_type": "execute_result"
    }
   ],
   "source": [
    "torch.cuda.get_device_properties(0)"
   ]
  },
  {
   "cell_type": "code",
   "execution_count": 9,
   "id": "91a980be-aec2-4682-ade1-aeca5882ba33",
   "metadata": {
    "scrolled": true
   },
   "outputs": [
    {
     "name": "stderr",
     "output_type": "stream",
     "text": [
      "C:\\Users\\FLopezP\\AppData\\Local\\Temp\\ipykernel_16948\\36428587.py:15: FutureWarning: You are using `torch.load` with `weights_only=False` (the current default value), which uses the default pickle module implicitly. It is possible to construct malicious pickle data which will execute arbitrary code during unpickling (See https://github.com/pytorch/pytorch/blob/main/SECURITY.md#untrusted-models for more details). In a future release, the default value for `weights_only` will be flipped to `True`. This limits the functions that could be executed during unpickling. Arbitrary objects will no longer be allowed to be loaded via this mode unless they are explicitly allowlisted by the user via `torch.serialization.add_safe_globals`. We recommend you start setting `weights_only=True` for any use case where you don't have full control of the loaded file. Please open an issue on GitHub for any issues related to this experimental feature.\n",
      "  pretrained_state_dict = torch.load(pretrained_checkpoint, map_location=self.device).state_dict()  # Load to specified device\n"
     ]
    },
    {
     "ename": "AttributeError",
     "evalue": "Can't get attribute 'OlmoSdpaAttention' on <module 'transformers.models.olmo.modeling_olmo' from 'C:\\\\Users\\\\FLopezP\\\\Anaconda3\\\\envs\\\\ayuda_por_favor\\\\lib\\\\site-packages\\\\transformers\\\\models\\\\olmo\\\\modeling_olmo.py'>",
     "output_type": "error",
     "traceback": [
      "\u001b[1;31m---------------------------------------------------------------------------\u001b[0m",
      "\u001b[1;31mAttributeError\u001b[0m                            Traceback (most recent call last)",
      "Cell \u001b[1;32mIn[9], line 4\u001b[0m\n\u001b[0;32m      2\u001b[0m finetuned_checkpoint \u001b[38;5;241m=\u001b[39m \u001b[38;5;124mr\u001b[39m\u001b[38;5;124m\"\u001b[39m\u001b[38;5;124mC:\u001b[39m\u001b[38;5;124m\\\u001b[39m\u001b[38;5;124mUsers\u001b[39m\u001b[38;5;124m\\\u001b[39m\u001b[38;5;124mFLopezP\u001b[39m\u001b[38;5;124m\\\u001b[39m\u001b[38;5;124mDesktop\u001b[39m\u001b[38;5;124m\\\u001b[39m\u001b[38;5;124mGIL\u001b[39m\u001b[38;5;124m\\\u001b[39m\u001b[38;5;124mUnlearning\u001b[39m\u001b[38;5;124m\\\u001b[39m\u001b[38;5;124molmo-finetuning.pt\u001b[39m\u001b[38;5;124m\"\u001b[39m\n\u001b[0;32m      3\u001b[0m \u001b[38;5;66;03m# Create the task vector\u001b[39;00m\n\u001b[1;32m----> 4\u001b[0m task_vector \u001b[38;5;241m=\u001b[39m \u001b[43mTaskVector\u001b[49m\u001b[43m(\u001b[49m\u001b[43mpretrained_checkpoint\u001b[49m\u001b[43m,\u001b[49m\u001b[43m \u001b[49m\u001b[43mfinetuned_checkpoint\u001b[49m\u001b[43m)\u001b[49m\n\u001b[0;32m      5\u001b[0m \u001b[38;5;66;03m# Negate the task vector\u001b[39;00m\n\u001b[0;32m      6\u001b[0m neg_task_vector \u001b[38;5;241m=\u001b[39m \u001b[38;5;241m-\u001b[39mtask_vector\n",
      "Cell \u001b[1;32mIn[7], line 15\u001b[0m, in \u001b[0;36mTaskVector.__init__\u001b[1;34m(self, pretrained_checkpoint, finetuned_checkpoint, vector, device)\u001b[0m\n\u001b[0;32m     13\u001b[0m \u001b[38;5;28;01massert\u001b[39;00m pretrained_checkpoint \u001b[38;5;129;01mis\u001b[39;00m \u001b[38;5;129;01mnot\u001b[39;00m \u001b[38;5;28;01mNone\u001b[39;00m \u001b[38;5;129;01mand\u001b[39;00m finetuned_checkpoint \u001b[38;5;129;01mis\u001b[39;00m \u001b[38;5;129;01mnot\u001b[39;00m \u001b[38;5;28;01mNone\u001b[39;00m\n\u001b[0;32m     14\u001b[0m \u001b[38;5;28;01mwith\u001b[39;00m torch\u001b[38;5;241m.\u001b[39mno_grad():\n\u001b[1;32m---> 15\u001b[0m     pretrained_state_dict \u001b[38;5;241m=\u001b[39m \u001b[43mtorch\u001b[49m\u001b[38;5;241;43m.\u001b[39;49m\u001b[43mload\u001b[49m\u001b[43m(\u001b[49m\u001b[43mpretrained_checkpoint\u001b[49m\u001b[43m,\u001b[49m\u001b[43m \u001b[49m\u001b[43mmap_location\u001b[49m\u001b[38;5;241;43m=\u001b[39;49m\u001b[38;5;28;43mself\u001b[39;49m\u001b[38;5;241;43m.\u001b[39;49m\u001b[43mdevice\u001b[49m\u001b[43m)\u001b[49m\u001b[38;5;241m.\u001b[39mstate_dict()  \u001b[38;5;66;03m# Load to specified device\u001b[39;00m\n\u001b[0;32m     16\u001b[0m     finetuned_state_dict \u001b[38;5;241m=\u001b[39m torch\u001b[38;5;241m.\u001b[39mload(finetuned_checkpoint, map_location\u001b[38;5;241m=\u001b[39m\u001b[38;5;28mself\u001b[39m\u001b[38;5;241m.\u001b[39mdevice)\u001b[38;5;241m.\u001b[39mstate_dict()  \u001b[38;5;66;03m# Load to specified device\u001b[39;00m\n\u001b[0;32m     17\u001b[0m     \u001b[38;5;28mself\u001b[39m\u001b[38;5;241m.\u001b[39mvector \u001b[38;5;241m=\u001b[39m {}\n",
      "File \u001b[1;32m~\\Anaconda3\\envs\\ayuda_por_favor\\lib\\site-packages\\torch\\serialization.py:1360\u001b[0m, in \u001b[0;36mload\u001b[1;34m(f, map_location, pickle_module, weights_only, mmap, **pickle_load_args)\u001b[0m\n\u001b[0;32m   1358\u001b[0m             \u001b[38;5;28;01mexcept\u001b[39;00m pickle\u001b[38;5;241m.\u001b[39mUnpicklingError \u001b[38;5;28;01mas\u001b[39;00m e:\n\u001b[0;32m   1359\u001b[0m                 \u001b[38;5;28;01mraise\u001b[39;00m pickle\u001b[38;5;241m.\u001b[39mUnpicklingError(_get_wo_message(\u001b[38;5;28mstr\u001b[39m(e))) \u001b[38;5;28;01mfrom\u001b[39;00m \u001b[38;5;28;01mNone\u001b[39;00m\n\u001b[1;32m-> 1360\u001b[0m         \u001b[38;5;28;01mreturn\u001b[39;00m _load(\n\u001b[0;32m   1361\u001b[0m             opened_zipfile,\n\u001b[0;32m   1362\u001b[0m             map_location,\n\u001b[0;32m   1363\u001b[0m             pickle_module,\n\u001b[0;32m   1364\u001b[0m             overall_storage\u001b[38;5;241m=\u001b[39moverall_storage,\n\u001b[0;32m   1365\u001b[0m             \u001b[38;5;241m*\u001b[39m\u001b[38;5;241m*\u001b[39mpickle_load_args,\n\u001b[0;32m   1366\u001b[0m         )\n\u001b[0;32m   1367\u001b[0m \u001b[38;5;28;01mif\u001b[39;00m mmap:\n\u001b[0;32m   1368\u001b[0m     f_name \u001b[38;5;241m=\u001b[39m \u001b[38;5;124m\"\u001b[39m\u001b[38;5;124m\"\u001b[39m \u001b[38;5;28;01mif\u001b[39;00m \u001b[38;5;129;01mnot\u001b[39;00m \u001b[38;5;28misinstance\u001b[39m(f, \u001b[38;5;28mstr\u001b[39m) \u001b[38;5;28;01melse\u001b[39;00m \u001b[38;5;124mf\u001b[39m\u001b[38;5;124m\"\u001b[39m\u001b[38;5;132;01m{\u001b[39;00mf\u001b[38;5;132;01m}\u001b[39;00m\u001b[38;5;124m, \u001b[39m\u001b[38;5;124m\"\u001b[39m\n",
      "File \u001b[1;32m~\\Anaconda3\\envs\\ayuda_por_favor\\lib\\site-packages\\torch\\serialization.py:1848\u001b[0m, in \u001b[0;36m_load\u001b[1;34m(zip_file, map_location, pickle_module, pickle_file, overall_storage, **pickle_load_args)\u001b[0m\n\u001b[0;32m   1846\u001b[0m \u001b[38;5;28;01mglobal\u001b[39;00m _serialization_tls\n\u001b[0;32m   1847\u001b[0m _serialization_tls\u001b[38;5;241m.\u001b[39mmap_location \u001b[38;5;241m=\u001b[39m map_location\n\u001b[1;32m-> 1848\u001b[0m result \u001b[38;5;241m=\u001b[39m \u001b[43munpickler\u001b[49m\u001b[38;5;241;43m.\u001b[39;49m\u001b[43mload\u001b[49m\u001b[43m(\u001b[49m\u001b[43m)\u001b[49m\n\u001b[0;32m   1849\u001b[0m _serialization_tls\u001b[38;5;241m.\u001b[39mmap_location \u001b[38;5;241m=\u001b[39m \u001b[38;5;28;01mNone\u001b[39;00m\n\u001b[0;32m   1851\u001b[0m torch\u001b[38;5;241m.\u001b[39m_utils\u001b[38;5;241m.\u001b[39m_validate_loaded_sparse_tensors()\n",
      "File \u001b[1;32m~\\Anaconda3\\envs\\ayuda_por_favor\\lib\\site-packages\\torch\\serialization.py:1837\u001b[0m, in \u001b[0;36m_load.<locals>.UnpicklerWrapper.find_class\u001b[1;34m(self, mod_name, name)\u001b[0m\n\u001b[0;32m   1835\u001b[0m         \u001b[38;5;28;01mpass\u001b[39;00m\n\u001b[0;32m   1836\u001b[0m mod_name \u001b[38;5;241m=\u001b[39m load_module_mapping\u001b[38;5;241m.\u001b[39mget(mod_name, mod_name)\n\u001b[1;32m-> 1837\u001b[0m \u001b[38;5;28;01mreturn\u001b[39;00m \u001b[38;5;28;43msuper\u001b[39;49m\u001b[43m(\u001b[49m\u001b[43m)\u001b[49m\u001b[38;5;241;43m.\u001b[39;49m\u001b[43mfind_class\u001b[49m\u001b[43m(\u001b[49m\u001b[43mmod_name\u001b[49m\u001b[43m,\u001b[49m\u001b[43m \u001b[49m\u001b[43mname\u001b[49m\u001b[43m)\u001b[49m\n",
      "\u001b[1;31mAttributeError\u001b[0m: Can't get attribute 'OlmoSdpaAttention' on <module 'transformers.models.olmo.modeling_olmo' from 'C:\\\\Users\\\\FLopezP\\\\Anaconda3\\\\envs\\\\ayuda_por_favor\\\\lib\\\\site-packages\\\\transformers\\\\models\\\\olmo\\\\modeling_olmo.py'>"
     ]
    }
   ],
   "source": [
    "pretrained_checkpoint = r\"C:\\Users\\FLopezP\\Desktop\\GIL\\Unlearning\\olmo.pt\"\n",
    "finetuned_checkpoint = r\"C:\\Users\\FLopezP\\Desktop\\GIL\\Unlearning\\olmo-finetuning.pt\"\n",
    "# Create the task vector\n",
    "task_vector = TaskVector(pretrained_checkpoint, finetuned_checkpoint)\n",
    "# Negate the task vector\n",
    "neg_task_vector = -task_vector\n",
    "# Apply the task vector\n",
    "model_after_vector = neg_task_vector.apply_to(pretrained_checkpoint, scaling_coef=0.5)\n",
    "#save model\n",
    "final_model = r\"C:\\Users\\FLopezP\\Desktop\\GIL\\Unlearning\\olmo-vector.pt\"\n",
    "torch.save(model_after_vector, final_model)"
   ]
  },
  {
   "cell_type": "code",
   "execution_count": null,
   "id": "ae46ae6c-7332-4722-8712-37ade5c34f05",
   "metadata": {},
   "outputs": [],
   "source": []
  }
 ],
 "metadata": {
  "kernelspec": {
   "display_name": "Python 3 (ipykernel)",
   "language": "python",
   "name": "python3"
  },
  "language_info": {
   "codemirror_mode": {
    "name": "ipython",
    "version": 3
   },
   "file_extension": ".py",
   "mimetype": "text/x-python",
   "name": "python",
   "nbconvert_exporter": "python",
   "pygments_lexer": "ipython3",
   "version": "3.9.18"
  }
 },
 "nbformat": 4,
 "nbformat_minor": 5
}
